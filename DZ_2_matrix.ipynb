{
 "cells": [
  {
   "cell_type": "markdown",
   "id": "dying-madison",
   "metadata": {},
   "source": [
    "# Домашнее задание \"Линейная алгебра. Матрицы\"."
   ]
  },
  {
   "cell_type": "markdown",
   "id": "adequate-turkey",
   "metadata": {},
   "source": [
    "# Уровень 0:"
   ]
  },
  {
   "cell_type": "code",
   "execution_count": 1,
   "id": "animated-injection",
   "metadata": {},
   "outputs": [
    {
     "name": "stdout",
     "output_type": "stream",
     "text": [
      "[[1 2 3]\n",
      " [4 5 6]\n",
      " [7 8 9]]\n"
     ]
    }
   ],
   "source": [
    "# Создайте матрицу 3 на 3, заполненную числами от 1 до 9\n",
    "import numpy as np\n",
    "A = np.arange(1, 10).reshape(3, 3)\n",
    "print (A)"
   ]
  },
  {
   "cell_type": "code",
   "execution_count": 2,
   "id": "utility-helen",
   "metadata": {},
   "outputs": [
    {
     "name": "stdout",
     "output_type": "stream",
     "text": [
      "[[1. 0. 0.]\n",
      " [0. 1. 0.]\n",
      " [0. 0. 1.]]\n",
      "[[ 2.  2.  3.]\n",
      " [ 4.  6.  6.]\n",
      " [ 7.  8. 10.]]\n"
     ]
    }
   ],
   "source": [
    "# Прибавьте к ней матрицу с единицами на диагонале\n",
    "B = np.eye(3)\n",
    "print (B)\n",
    "C = A + B\n",
    "\n",
    "print (C)"
   ]
  },
  {
   "cell_type": "code",
   "execution_count": 3,
   "id": "indie-regard",
   "metadata": {},
   "outputs": [
    {
     "name": "stdout",
     "output_type": "stream",
     "text": [
      "[1 2 3]\n"
     ]
    }
   ],
   "source": [
    "# Умножьте полученную матрицу на вектор (1, 2, 3)\n",
    "x = np.array([1, 2, 3])\n",
    "print (x)"
   ]
  },
  {
   "cell_type": "code",
   "execution_count": 4,
   "id": "threaded-rogers",
   "metadata": {},
   "outputs": [
    {
     "name": "stdout",
     "output_type": "stream",
     "text": [
      "[15. 34. 53.]\n"
     ]
    }
   ],
   "source": [
    "y = np.dot (C, x)\n",
    "print (y)"
   ]
  },
  {
   "cell_type": "code",
   "execution_count": 5,
   "id": "alien-statistics",
   "metadata": {},
   "outputs": [
    {
     "name": "stdout",
     "output_type": "stream",
     "text": [
      "[[-6.  -2.   3. ]\n",
      " [-1.   0.5  0. ]\n",
      " [ 5.   1.  -2. ]]\n"
     ]
    }
   ],
   "source": [
    "# Посчитайте обратную матрицу к полученной в результате прибавления матрице\n",
    "from numpy import linalg as LA\n",
    "\n",
    "V = np.linalg.inv(C)\n",
    "print (V)"
   ]
  },
  {
   "cell_type": "code",
   "execution_count": 6,
   "id": "hispanic-southeast",
   "metadata": {},
   "outputs": [
    {
     "name": "stdout",
     "output_type": "stream",
     "text": [
      "Проверка: [[1.00000000e+00 0.00000000e+00 7.10542736e-15]\n",
      " [0.00000000e+00 1.00000000e+00 0.00000000e+00]\n",
      " [1.77635684e-15 0.00000000e+00 1.00000000e+00]] Вышла единичная матрица\n"
     ]
    }
   ],
   "source": [
    "F = V @ C\n",
    "print ('Проверка:',F , 'Вышла единичная матрица')"
   ]
  },
  {
   "cell_type": "markdown",
   "id": "sealed-nashville",
   "metadata": {},
   "source": [
    "# Уровень 1:"
   ]
  },
  {
   "cell_type": "markdown",
   "id": "regional-classification",
   "metadata": {},
   "source": [
    "Дан объект в 2d пространстве:\n"
   ]
  },
  {
   "cell_type": "code",
   "execution_count": 7,
   "id": "prerequisite-champion",
   "metadata": {},
   "outputs": [
    {
     "data": {
      "text/plain": [
       "<Figure size 576x576 with 0 Axes>"
      ]
     },
     "execution_count": 7,
     "metadata": {},
     "output_type": "execute_result"
    },
    {
     "data": {
      "image/png": "[encoded data removed]",
      "text/plain": [
       "<Figure size 432x288 with 1 Axes>"
      ]
     },
     "metadata": {
      "needs_background": "light"
     },
     "output_type": "display_data"
    },
    {
     "data": {
      "text/plain": [
       "<Figure size 576x576 with 0 Axes>"
      ]
     },
     "metadata": {},
     "output_type": "display_data"
    }
   ],
   "source": [
    "import numpy as np  \n",
    "import matplotlib.pyplot as plt\n",
    "A = [[-100, -100, 1],[-100, 100, 1],[100, 100, 1],[0, 0, 1],[100, -100, 1],[-100, -100, 1]]\n",
    "\n",
    "A = np.array(A)\n",
    "\n",
    "x = A[:,0]\n",
    "\n",
    "y = A[:,1]\n",
    "\n",
    "plt.plot(x, y)\n",
    "\n",
    "\n",
    "\n",
    "plt.ylim([-200, 200])\n",
    "\n",
    "plt.xlim([-200, 200])\n",
    "\n",
    "plt.figure(figsize = (8., 8.))"
   ]
  },
  {
   "cell_type": "code",
   "execution_count": 8,
   "id": "shared-nigeria",
   "metadata": {},
   "outputs": [
    {
     "data": {
      "text/plain": [
       "array([[-100, -100,    1],\n",
       "       [-100,  100,    1],\n",
       "       [ 100,  100,    1],\n",
       "       [   0,    0,    1],\n",
       "       [ 100, -100,    1],\n",
       "       [-100, -100,    1]])"
      ]
     },
     "execution_count": 8,
     "metadata": {},
     "output_type": "execute_result"
    }
   ],
   "source": [
    "A"
   ]
  },
  {
   "cell_type": "markdown",
   "id": "written-placement",
   "metadata": {},
   "source": [
    "При помощи матричных операций выполните:\n"
   ]
  },
  {
   "cell_type": "code",
   "execution_count": 9,
   "id": "resistant-three",
   "metadata": {},
   "outputs": [],
   "source": [
    "# Уменьшить объект в два раза\n",
    "n = 0.5\n",
    "F =  A * n"
   ]
  },
  {
   "cell_type": "code",
   "execution_count": 10,
   "id": "floppy-gamma",
   "metadata": {},
   "outputs": [
    {
     "data": {
      "text/plain": [
       "(-200.0, 200.0)"
      ]
     },
     "execution_count": 10,
     "metadata": {},
     "output_type": "execute_result"
    },
    {
     "data": {
      "image/png": "[encoded data removed]",
      "text/plain": [
       "<Figure size 432x288 with 1 Axes>"
      ]
     },
     "metadata": {
      "needs_background": "light"
     },
     "output_type": "display_data"
    }
   ],
   "source": [
    "x = F[:,0]\n",
    "\n",
    "y = F[:,1]\n",
    "\n",
    "plt.plot(x, y)\n",
    "\n",
    "plt.ylim([-200, 200])\n",
    "\n",
    "plt.xlim([-200, 200])"
   ]
  },
  {
   "cell_type": "code",
   "execution_count": 11,
   "id": "increased-shore",
   "metadata": {},
   "outputs": [],
   "source": [
    "# Повернуть на 130 градусов"
   ]
  },
  {
   "cell_type": "code",
   "execution_count": 23,
   "id": "genuine-costume",
   "metadata": {},
   "outputs": [
    {
     "name": "stdout",
     "output_type": "stream",
     "text": [
      "[[-100 -100]\n",
      " [-100  100]\n",
      " [ 100  100]\n",
      " [   0    0]\n",
      " [ 100 -100]\n",
      " [-100 -100]]\n"
     ]
    }
   ],
   "source": [
    "print(A[:,0:2])"
   ]
  },
  {
   "cell_type": "code",
   "execution_count": 25,
   "id": "registered-paste",
   "metadata": {},
   "outputs": [],
   "source": [
    "E = np.array([\n",
    "    [np.cos(130), -np.sin(130)],\n",
    "    [np.sin(130), np.cos(130)]   \n",
    "    ]) #создаю матрицу поворота\n",
    "\n",
    "T =  A[:,0:2]@E #умножаю ее на матрицу А с выбранными первыми двумя столбцами"
   ]
  },
  {
   "cell_type": "code",
   "execution_count": 27,
   "id": "immune-textbook",
   "metadata": {},
   "outputs": [
    {
     "data": {
      "text/plain": [
       "<Figure size 576x576 with 0 Axes>"
      ]
     },
     "execution_count": 27,
     "metadata": {},
     "output_type": "execute_result"
    },
    {
     "data": {
      "image/png": "[encoded data removed]",
      "text/plain": [
       "<Figure size 432x288 with 1 Axes>"
      ]
     },
     "metadata": {
      "needs_background": "light"
     },
     "output_type": "display_data"
    },
    {
     "data": {
      "text/plain": [
       "<Figure size 576x576 with 0 Axes>"
      ]
     },
     "metadata": {},
     "output_type": "display_data"
    }
   ],
   "source": [
    "x = T[:,0]\n",
    "\n",
    "y = T[:,1]\n",
    "\n",
    "plt.plot(x, y)\n",
    "\n",
    "plt.ylim([-200, 200])\n",
    "\n",
    "plt.xlim([-200, 200])\n",
    "\n",
    "plt.figure(figsize = (8., 8.))"
   ]
  },
  {
   "cell_type": "code",
   "execution_count": 53,
   "id": "polish-carolina",
   "metadata": {},
   "outputs": [],
   "source": [
    "# Отразить объект относительно прямой y=x\n",
    "\n",
    "C = np.eye (3) # создаю единичную матрицу\n",
    "C = C*(-1) # умножаю -1 что бы отразить\n",
    "\n",
    "T =  A @ C "
   ]
  },
  {
   "cell_type": "code",
   "execution_count": 54,
   "id": "modified-region",
   "metadata": {},
   "outputs": [
    {
     "data": {
      "text/plain": [
       "<Figure size 576x576 with 0 Axes>"
      ]
     },
     "execution_count": 54,
     "metadata": {},
     "output_type": "execute_result"
    },
    {
     "data": {
      "image/png": "[encoded data removed]",
      "text/plain": [
       "<Figure size 432x288 with 1 Axes>"
      ]
     },
     "metadata": {
      "needs_background": "light"
     },
     "output_type": "display_data"
    },
    {
     "data": {
      "text/plain": [
       "<Figure size 576x576 with 0 Axes>"
      ]
     },
     "metadata": {},
     "output_type": "display_data"
    }
   ],
   "source": [
    "x = T[:,0]\n",
    "\n",
    "y = T[:,1]\n",
    "\n",
    "plt.plot(x, y)\n",
    "\n",
    "plt.ylim([-200, 200])\n",
    "\n",
    "plt.xlim([-200, 200])\n",
    "\n",
    "plt.figure(figsize = (8., 8.))"
   ]
  },
  {
   "cell_type": "code",
   "execution_count": 154,
   "id": "moral-palace",
   "metadata": {},
   "outputs": [],
   "source": [
    "# Выполнить смещение объекта и масштабирование \n",
    "# (применить 2 матрицы трансформаций). Смещение на (200, 300) и масштабирование на (0.5, 1.2)\n",
    "\n",
    "z = np.array([[200, 300, 0]]) #смещение\n",
    "z1 = np.array([[0.5,0, 0],[0, 1.2, 0], [0, 0, 0]]) # масштабирование\n",
    "Z = (A @ z1) + z"
   ]
  },
  {
   "cell_type": "code",
   "execution_count": 155,
   "id": "confidential-boston",
   "metadata": {},
   "outputs": [
    {
     "data": {
      "text/plain": [
       "<Figure size 576x576 with 0 Axes>"
      ]
     },
     "execution_count": 155,
     "metadata": {},
     "output_type": "execute_result"
    },
    {
     "data": {
      "image/png": "[encoded data removed]",
      "text/plain": [
       "<Figure size 432x288 with 1 Axes>"
      ]
     },
     "metadata": {
      "needs_background": "light"
     },
     "output_type": "display_data"
    },
    {
     "data": {
      "text/plain": [
       "<Figure size 576x576 with 0 Axes>"
      ]
     },
     "metadata": {},
     "output_type": "display_data"
    }
   ],
   "source": [
    "x = Z[:,0]\n",
    "\n",
    "y = Z[:,1]\n",
    "\n",
    "x1 = A[:,0]\n",
    "\n",
    "y1 = A[:,1]\n",
    "\n",
    "plt.plot(x1, y1)\n",
    "plt.plot(x, y)\n",
    "\n",
    "\n",
    "plt.ylim([-400, 500])\n",
    "\n",
    "plt.xlim([-400, 500])\n",
    "\n",
    "plt.figure(figsize = (8., 8.))"
   ]
  }
 ],
 "metadata": {
  "kernelspec": {
   "display_name": "Python 3",
   "language": "python",
   "name": "python3"
  },
  "language_info": {
   "codemirror_mode": {
    "name": "ipython",
    "version": 3
   },
   "file_extension": ".py",
   "mimetype": "text/x-python",
   "name": "python",
   "nbconvert_exporter": "python",
   "pygments_lexer": "ipython3",
   "version": "3.8.5"
  }
 },
 "nbformat": 4,
 "nbformat_minor": 5
}
